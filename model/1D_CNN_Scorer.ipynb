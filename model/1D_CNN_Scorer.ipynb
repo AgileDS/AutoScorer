{
  "nbformat": 4,
  "nbformat_minor": 0,
  "metadata": {
    "kernelspec": {
      "name": "python3",
      "display_name": "Python 3"
    },
    "language_info": {
      "codemirror_mode": {
        "name": "ipython",
        "version": 3
      },
      "file_extension": ".py",
      "mimetype": "text/x-python",
      "name": "python",
      "nbconvert_exporter": "python",
      "pygments_lexer": "ipython3",
      "version": "3.7.3"
    },
    "colab": {
      "name": "1D-CNN-Scorer.ipynb",
      "provenance": [],
      "collapsed_sections": []
    },
    "accelerator": "GPU"
  },
  "cells": [
    {
      "cell_type": "code",
      "metadata": {
        "id": "sUPVhgXSsko9",
        "colab_type": "code",
        "outputId": "f9aceb28-7208-4348-cb07-f0c7f8a53f97",
        "colab": {
          "base_uri": "https://localhost:8080/",
          "height": 68
        }
      },
      "source": [
        "%tensorflow_version 1.x\n",
        "\n",
        "!pip install mne\n",
        "\n",
        "import os\n",
        "import numpy as np\n",
        "import pandas as pd\n",
        "import mne\n",
        "import csv, json\n",
        "import datetime\n",
        "import matplotlib.pyplot as plt\n",
        "import sklearn\n",
        "\n",
        "from sklearn.model_selection import train_test_split"
      ],
      "execution_count": 144,
      "outputs": [
        {
          "output_type": "stream",
          "text": [
            "Requirement already satisfied: mne in /usr/local/lib/python3.6/dist-packages (0.19.2)\n",
            "Requirement already satisfied: scipy>=0.17.1 in /usr/local/lib/python3.6/dist-packages (from mne) (1.3.2)\n",
            "Requirement already satisfied: numpy>=1.11.3 in /usr/local/lib/python3.6/dist-packages (from mne) (1.17.4)\n"
          ],
          "name": "stdout"
        }
      ]
    },
    {
      "cell_type": "code",
      "metadata": {
        "id": "J4ylSnhwskpR",
        "colab_type": "code",
        "colab": {}
      },
      "source": [
        "def undersample(X, new_freq = 50, current_freq = 500, verbose = False):\n",
        "    if current_freq % new_freq > 0: \n",
        "        print('(current_freq / new_frequency) should be an integer')\n",
        "        return 0\n",
        "    ratio = new_freq / current_freq\n",
        "    num_points = int(X.shape[1] * ratio)\n",
        "    indices = np.arange(start = 0, stop = X.shape[1], step = int(ratio**-1))\n",
        "    X_new = X[:,indices,:]\n",
        "    if verbose: \n",
        "        print('Old dimensions:',X.shape)\n",
        "        print('New dimensions:',X_new.shape)\n",
        "    return X_new\n",
        "\n",
        "def edf_to_dataset(edf_path, scores_path):\n",
        "    edf = mne.io.read_raw_edf(edf_path)\n",
        "    sampling_rate = int(edf.info['sfreq'])\n",
        "    name = datetime.datetime.utcfromtimestamp(edf.info['meas_date'][0]).strftime('%Y-%m-%d %H:%M:%S')\n",
        "    \n",
        "    header = (','.join(edf.ch_names)).split(',')\n",
        "    df = edf.get_data().T\n",
        "    \n",
        "    scores = np.squeeze( pd.read_excel(scores_path, keep_default_na=False).values )\n",
        "    values_per_window = int(df.shape[0]/scores.shape[0])\n",
        "    num_windows = scores.shape[0]\n",
        "    \n",
        "    df = df[:num_windows*values_per_window]\n",
        "    df = np.reshape(df, newshape=(num_windows, values_per_window, 2))\n",
        "\n",
        "    scores[scores=='D'] = 'WA'\n",
        "    scores[scores=='SS'] = 'WA'\n",
        "    \n",
        "    # scores[scores=='NA'] = 'NR'\n",
        "    # scores[scores=='WA'] = 'W'\n",
        "    # scores[scores=='RA'] = 'R'\n",
        "\n",
        "    to_drop = (scores=='NA') | (scores=='WA') | (scores=='RA')\n",
        "    # print(df.shape, scores.shape)\n",
        "    df = df[~to_drop]\n",
        "    scores = scores[~to_drop]\n",
        "    # print(df.shape, scores.shape)\n",
        "\n",
        "    \n",
        "    return df, scores\n",
        "\n",
        "def edfs_to_dataset(folder, undersample_freq = 500):\n",
        "    dataset_names = []\n",
        "    for filename in sorted(os.listdir(folder), key=lambda x: int(x.split('_')[0][3:]) ):\n",
        "        name = filename.split('.')[0].replace('-', '_')\n",
        "        if name not in dataset_names: dataset_names.append(name)\n",
        "    print(dataset_names)\n",
        "\n",
        "    for dataset in dataset_names:\n",
        "        edf_path = folder + '/' + dataset + '.edf'\n",
        "        excel_path = folder + '/' + dataset + '.xls'\n",
        "        X, Y = edf_to_dataset(edf_path, excel_path)\n",
        "        if undersample_freq < 500:\n",
        "            X = undersample(X, new_freq=undersample_freq)\n",
        "        yield X, Y\n",
        "\n",
        "def merge_datasets(list_X, list_Y):\n",
        "    X_merged, Y_merged = None, None\n",
        "    for i in range(len(list_X)):\n",
        "        X = list_X[i]\n",
        "        Y = list_Y[i]\n",
        "        # print(X.shape)\n",
        "        # print(Y.shape)\n",
        "        X_merged = X if X_merged is None else np.vstack([X_merged, X])\n",
        "        Y_merged = Y if Y_merged is None else np.hstack([Y_merged, Y])\n",
        "        \n",
        "    # print(X_merged.shape)\n",
        "    # print(Y_merged.shape)\n",
        "    return X_merged, Y_merged\n",
        "\n",
        "def labels_to_onehot(Y, categories = {}):\n",
        "    Y = Y.copy()\n",
        "    count = 0\n",
        "    for i in range(len(Y)):\n",
        "        value = Y[i]\n",
        "        if not value in categories:\n",
        "            categories[value] = count\n",
        "            count += 1\n",
        "        Y[i] = categories[value]\n",
        "\n",
        "    Y = Y.astype(int)\n",
        "    Y_onehot = np.zeros((Y.shape[0], len(categories)))\n",
        "    Y_onehot[np.arange(Y.shape[0]), Y] = 1\n",
        "\n",
        "    return Y_onehot, categories\n"
      ],
      "execution_count": 0,
      "outputs": []
    },
    {
      "cell_type": "code",
      "metadata": {
        "id": "wMo1QB6prcY3",
        "colab_type": "code",
        "colab": {
          "base_uri": "https://localhost:8080/",
          "height": 408
        },
        "outputId": "4edb0a2e-9868-481c-ab07-770f7c525283"
      },
      "source": [
        "from google.colab import drive\n",
        "drive.mount('/content/drive')\n",
        "!rm -r /content/VEH\\ Tx\\ \\(N=10\\)\n",
        "!cp /content/drive/My\\ Drive/VEH-Tx.zip ./\n",
        "!unzip ./VEH-Tx.zip -d ./\n",
        "os.rename('./VEH Tx (N=10)/Veh72-02142015.xls', './VEH Tx (N=10)/Veh72_02142015.xls')"
      ],
      "execution_count": 146,
      "outputs": [
        {
          "output_type": "stream",
          "text": [
            "Drive already mounted at /content/drive; to attempt to forcibly remount, call drive.mount(\"/content/drive\", force_remount=True).\n",
            "Archive:  ./VEH-Tx.zip\n",
            "   creating: ./VEH Tx (N=10)/\n",
            " extracting: ./VEH Tx (N=10)/Veh72-02142015.xls  \n",
            " extracting: ./VEH Tx (N=10)/Veh93_02272015.xls  \n",
            " extracting: ./VEH Tx (N=10)/Veh70_02202015.edf  \n",
            " extracting: ./VEH Tx (N=10)/Veh74_02032015.xls  \n",
            " extracting: ./VEH Tx (N=10)/Veh70_02202015.xls  \n",
            " extracting: ./VEH Tx (N=10)/Veh72_02142015.edf  \n",
            " extracting: ./VEH Tx (N=10)/Veh74_02032015.edf  \n",
            " extracting: ./VEH Tx (N=10)/Veh93_02272015.edf  \n",
            " extracting: ./VEH Tx (N=10)/Veh128_01182016.xls  \n",
            " extracting: ./VEH Tx (N=10)/Veh122_01072016.edf  \n",
            " extracting: ./VEH Tx (N=10)/Veh116_01292016.edf  \n",
            " extracting: ./VEH Tx (N=10)/Veh124_01052016.edf  \n",
            " extracting: ./VEH Tx (N=10)/Veh116_01292016.xls  \n",
            " extracting: ./VEH Tx (N=10)/Veh122_01072016.xls  \n",
            " extracting: ./VEH Tx (N=10)/Veh120_01112016.edf  \n",
            " extracting: ./VEH Tx (N=10)/Veh128_01182016.edf  \n",
            " extracting: ./VEH Tx (N=10)/Veh118_01182016.edf  \n",
            " extracting: ./VEH Tx (N=10)/Veh124_01052016.xls  \n",
            " extracting: ./VEH Tx (N=10)/Veh120_01112016.xls  \n",
            " extracting: ./VEH Tx (N=10)/Veh118_01182016.xls  \n"
          ],
          "name": "stdout"
        }
      ]
    },
    {
      "cell_type": "code",
      "metadata": {
        "id": "dWvoHFzYtCld",
        "colab_type": "code",
        "colab": {
          "base_uri": "https://localhost:8080/",
          "height": 714
        },
        "outputId": "bdc105bb-c8f0-4449-aa06-8d99d7b70845"
      },
      "source": [
        "datasets_folder = './VEH Tx (N=10)'\n",
        "categories = {}\n",
        "datasets_X, datasets_Y = [], []\n",
        "for X,Y in edfs_to_dataset(datasets_folder):\n",
        "    datasets_X.append(X)\n",
        "    datasets_Y.append(Y)"
      ],
      "execution_count": 202,
      "outputs": [
        {
          "output_type": "stream",
          "text": [
            "['Veh70_02202015', 'Veh72_02142015', 'Veh74_02032015', 'Veh93_02272015', 'Veh116_01292016', 'Veh118_01182016', 'Veh120_01112016', 'Veh122_01072016', 'Veh124_01052016', 'Veh128_01182016']\n",
            "Extracting EDF parameters from /content/VEH Tx (N=10)/Veh70_02202015.edf...\n",
            "EDF file detected\n",
            "Setting channel info structure...\n",
            "Creating raw.info structure...\n",
            "Extracting EDF parameters from /content/VEH Tx (N=10)/Veh72_02142015.edf...\n",
            "EDF file detected\n",
            "Setting channel info structure...\n",
            "Creating raw.info structure...\n",
            "Extracting EDF parameters from /content/VEH Tx (N=10)/Veh74_02032015.edf...\n",
            "EDF file detected\n",
            "Setting channel info structure...\n",
            "Creating raw.info structure...\n",
            "Extracting EDF parameters from /content/VEH Tx (N=10)/Veh93_02272015.edf...\n",
            "EDF file detected\n",
            "Setting channel info structure...\n",
            "Creating raw.info structure...\n",
            "Extracting EDF parameters from /content/VEH Tx (N=10)/Veh116_01292016.edf...\n",
            "EDF file detected\n",
            "Setting channel info structure...\n",
            "Creating raw.info structure...\n",
            "Extracting EDF parameters from /content/VEH Tx (N=10)/Veh118_01182016.edf...\n",
            "EDF file detected\n",
            "Setting channel info structure...\n",
            "Creating raw.info structure...\n",
            "Extracting EDF parameters from /content/VEH Tx (N=10)/Veh120_01112016.edf...\n",
            "EDF file detected\n",
            "Setting channel info structure...\n",
            "Creating raw.info structure...\n",
            "Extracting EDF parameters from /content/VEH Tx (N=10)/Veh122_01072016.edf...\n",
            "EDF file detected\n",
            "Setting channel info structure...\n",
            "Creating raw.info structure...\n",
            "Extracting EDF parameters from /content/VEH Tx (N=10)/Veh124_01052016.edf...\n",
            "EDF file detected\n",
            "Setting channel info structure...\n",
            "Creating raw.info structure...\n",
            "Extracting EDF parameters from /content/VEH Tx (N=10)/Veh128_01182016.edf...\n",
            "EDF file detected\n",
            "Setting channel info structure...\n",
            "Creating raw.info structure...\n"
          ],
          "name": "stdout"
        }
      ]
    },
    {
      "cell_type": "code",
      "metadata": {
        "id": "BeASRUmpw9I7",
        "colab_type": "code",
        "colab": {
          "base_uri": "https://localhost:8080/",
          "height": 68
        },
        "outputId": "247175b1-c85c-4efb-f3ec-dafa03606e2f"
      },
      "source": [
        "X_train, Y_train = merge_datasets(datasets_X[5:], datasets_Y[5:])\n",
        "X_val, Y_val = merge_datasets(datasets_X[0:5], datasets_Y[0:5])\n",
        "\n",
        "Y_train, categories = labels_to_onehot(Y_train, {})\n",
        "Y_val, categories = labels_to_onehot(Y_val, {})\n",
        "\n",
        "print(X_train.shape, Y_train.shape)\n",
        "print(X_val.shape, Y_val.shape)\n",
        "print(categories)"
      ],
      "execution_count": 203,
      "outputs": [
        {
          "output_type": "stream",
          "text": [
            "(7534, 500, 2) (7534, 3)\n",
            "(6997, 500, 2) (6997, 3)\n",
            "{'W': 0, 'NR': 1, 'R': 2}\n"
          ],
          "name": "stdout"
        }
      ]
    },
    {
      "cell_type": "code",
      "metadata": {
        "id": "hIFh4aaMskpW",
        "colab_type": "code",
        "colab": {}
      },
      "source": [
        "# sample_folder = './'\n",
        "# file_name = 'Veh70_02202015'\n",
        "\n",
        "# categories = {}\n",
        "# X, Y = edf_to_dataset(sample_folder+file_name+'.edf', sample_folder+file_name+'.xls')\n",
        "\n",
        "# count = 0\n",
        "# for i in range(len(Y)):\n",
        "#     value = Y[i]\n",
        "#     if not value in categories:\n",
        "#         categories[value] = count\n",
        "#         count += 1\n",
        "#     Y[i] = categories[value]\n",
        "\n",
        "# Y = Y.astype(int)\n",
        "# Y_onehot = np.zeros((Y.shape[0], len(categories)))\n",
        "# print(Y_onehot.shape)\n",
        "# print(categories)\n",
        "# Y_onehot[np.arange(Y.shape[0]), Y] = 1\n",
        "\n",
        "# print(X.shape, Y_onehot.shape)"
      ],
      "execution_count": 0,
      "outputs": []
    },
    {
      "cell_type": "code",
      "metadata": {
        "id": "kpDYanTiskpd",
        "colab_type": "code",
        "colab": {}
      },
      "source": [
        "import tensorflow.keras as keras\n",
        "\n",
        "class CNN_Scorer(keras.Model):\n",
        "\n",
        "    def __init__(self, num_classes=6, filters=[10, 10], kernel_size=4, max_pool_size=2, use_batch_normalization=False, embedding_dimension=1000, dropout=0.4):\n",
        "        super(CNN_Scorer, self).__init__(name='CNN')\n",
        "        self.pipeline = []\n",
        "        \n",
        "        for num_filters in filters:\n",
        "            self.pipeline.append( keras.layers.Conv1D(num_filters, kernel_size, activation='relu') )\n",
        "            if use_batch_normalization: self.pipeline.append( keras.layers.BatchNormalization() )\n",
        "            self.pipeline.append( keras.layers.MaxPool1D(max_pool_size) )\n",
        "            \n",
        "        self.pipeline.append( keras.layers.Flatten() )\n",
        "\n",
        "        if embedding_dimension > 0:\n",
        "            self.pipeline.append( keras.layers.Dense(embedding_dimension, activation='relu') )\n",
        "            if dropout > 0: self.pipeline.append( keras.layers.Dropout(dropout) )\n",
        "\n",
        "        self.pipeline.append( keras.layers.Dense(num_classes, activation='softmax') )\n",
        "\n",
        "    def call(self, x):\n",
        "        for layer in self.pipeline:\n",
        "            # print(x.shape)\n",
        "            x = layer(x)\n",
        "        return x\n",
        "    "
      ],
      "execution_count": 0,
      "outputs": []
    },
    {
      "cell_type": "code",
      "metadata": {
        "id": "oZ9wk0ZowN58",
        "colab_type": "code",
        "outputId": "fd018ace-3d06-4616-ca88-d80ad0260e6d",
        "colab": {
          "base_uri": "https://localhost:8080/",
          "height": 833
        }
      },
      "source": [
        "model = CNN_Scorer(num_classes=len(categories), filters=[5, 5, 5, 5, 5, 5], use_batch_normalization=True, embedding_dimension=0, dropout=0.4)\n",
        "model.compile(optimizer='adam', loss='categorical_crossentropy', metrics=['accuracy'])\n",
        "model.build(input_shape=X_train.shape)\n",
        "model.summary()\n",
        "# Y_hat = model.predict(X)\n",
        "# model.evaluate(X, Y_onehot)"
      ],
      "execution_count": 206,
      "outputs": [
        {
          "output_type": "stream",
          "text": [
            "Model: \"CNN\"\n",
            "_________________________________________________________________\n",
            "Layer (type)                 Output Shape              Param #   \n",
            "=================================================================\n",
            "conv1d_290 (Conv1D)          multiple                  45        \n",
            "_________________________________________________________________\n",
            "batch_normalization_183 (Bat multiple                  20        \n",
            "_________________________________________________________________\n",
            "max_pooling1d_290 (MaxPoolin multiple                  0         \n",
            "_________________________________________________________________\n",
            "conv1d_291 (Conv1D)          multiple                  105       \n",
            "_________________________________________________________________\n",
            "batch_normalization_184 (Bat multiple                  20        \n",
            "_________________________________________________________________\n",
            "max_pooling1d_291 (MaxPoolin multiple                  0         \n",
            "_________________________________________________________________\n",
            "conv1d_292 (Conv1D)          multiple                  105       \n",
            "_________________________________________________________________\n",
            "batch_normalization_185 (Bat multiple                  20        \n",
            "_________________________________________________________________\n",
            "max_pooling1d_292 (MaxPoolin multiple                  0         \n",
            "_________________________________________________________________\n",
            "conv1d_293 (Conv1D)          multiple                  105       \n",
            "_________________________________________________________________\n",
            "batch_normalization_186 (Bat multiple                  20        \n",
            "_________________________________________________________________\n",
            "max_pooling1d_293 (MaxPoolin multiple                  0         \n",
            "_________________________________________________________________\n",
            "conv1d_294 (Conv1D)          multiple                  105       \n",
            "_________________________________________________________________\n",
            "batch_normalization_187 (Bat multiple                  20        \n",
            "_________________________________________________________________\n",
            "max_pooling1d_294 (MaxPoolin multiple                  0         \n",
            "_________________________________________________________________\n",
            "conv1d_295 (Conv1D)          multiple                  105       \n",
            "_________________________________________________________________\n",
            "batch_normalization_188 (Bat multiple                  20        \n",
            "_________________________________________________________________\n",
            "max_pooling1d_295 (MaxPoolin multiple                  0         \n",
            "_________________________________________________________________\n",
            "flatten_57 (Flatten)         multiple                  0         \n",
            "_________________________________________________________________\n",
            "dense_66 (Dense)             multiple                  63        \n",
            "=================================================================\n",
            "Total params: 753\n",
            "Trainable params: 693\n",
            "Non-trainable params: 60\n",
            "_________________________________________________________________\n"
          ],
          "name": "stdout"
        }
      ]
    },
    {
      "cell_type": "code",
      "metadata": {
        "id": "iejlYNVhzN9G",
        "colab_type": "code",
        "outputId": "43d139aa-128c-4a63-864c-11dc3ddd180c",
        "colab": {
          "base_uri": "https://localhost:8080/",
          "height": 748
        }
      },
      "source": [
        "print(model.evaluate(X_val, Y_val))\n",
        "history = model.fit(X_train, Y_train, validation_data=(X_val, Y_val), epochs=20)"
      ],
      "execution_count": 217,
      "outputs": [
        {
          "output_type": "stream",
          "text": [
            "6997/6997 [==============================] - 1s 195us/sample - loss: 0.4724 - acc: 0.8872\n",
            "[0.47240602481397725, 0.88723737]\n",
            "Train on 7534 samples, validate on 6997 samples\n",
            "Epoch 1/20\n",
            "7534/7534 [==============================] - 5s 615us/sample - loss: 0.0605 - acc: 0.9772 - val_loss: 0.3929 - val_acc: 0.9055\n",
            "Epoch 2/20\n",
            "7534/7534 [==============================] - 5s 623us/sample - loss: 0.0577 - acc: 0.9785 - val_loss: 0.3693 - val_acc: 0.9125\n",
            "Epoch 3/20\n",
            "7534/7534 [==============================] - 5s 615us/sample - loss: 0.0559 - acc: 0.9818 - val_loss: 0.3912 - val_acc: 0.9061\n",
            "Epoch 4/20\n",
            "7534/7534 [==============================] - 5s 617us/sample - loss: 0.0692 - acc: 0.9760 - val_loss: 0.3224 - val_acc: 0.9190\n",
            "Epoch 5/20\n",
            "7534/7534 [==============================] - 5s 635us/sample - loss: 0.0558 - acc: 0.9809 - val_loss: 0.4109 - val_acc: 0.9048\n",
            "Epoch 6/20\n",
            "7534/7534 [==============================] - 5s 621us/sample - loss: 0.0664 - acc: 0.9758 - val_loss: 0.4443 - val_acc: 0.8982\n",
            "Epoch 7/20\n",
            "7534/7534 [==============================] - 5s 619us/sample - loss: 0.0592 - acc: 0.9805 - val_loss: 0.3778 - val_acc: 0.9091\n",
            "Epoch 8/20\n",
            "7534/7534 [==============================] - 5s 619us/sample - loss: 0.0605 - acc: 0.9780 - val_loss: 0.3629 - val_acc: 0.9198\n",
            "Epoch 9/20\n",
            "7534/7534 [==============================] - 5s 615us/sample - loss: 0.0609 - acc: 0.9784 - val_loss: 0.4131 - val_acc: 0.8931\n",
            "Epoch 10/20\n",
            "7534/7534 [==============================] - 5s 619us/sample - loss: 0.0558 - acc: 0.9808 - val_loss: 0.4408 - val_acc: 0.8954\n",
            "Epoch 11/20\n",
            "7534/7534 [==============================] - 5s 643us/sample - loss: 0.0588 - acc: 0.9786 - val_loss: 0.3545 - val_acc: 0.9185\n",
            "Epoch 12/20\n",
            "7534/7534 [==============================] - 5s 624us/sample - loss: 0.0571 - acc: 0.9800 - val_loss: 0.3212 - val_acc: 0.9198\n",
            "Epoch 13/20\n",
            "7534/7534 [==============================] - 5s 604us/sample - loss: 0.0581 - acc: 0.9794 - val_loss: 0.5065 - val_acc: 0.8794\n",
            "Epoch 14/20\n",
            "7534/7534 [==============================] - 5s 609us/sample - loss: 0.0604 - acc: 0.9780 - val_loss: 0.3975 - val_acc: 0.9058\n",
            "Epoch 15/20\n",
            "7534/7534 [==============================] - 5s 620us/sample - loss: 0.0586 - acc: 0.9796 - val_loss: 0.3882 - val_acc: 0.9117\n",
            "Epoch 16/20\n",
            "7534/7534 [==============================] - 5s 631us/sample - loss: 0.0619 - acc: 0.9774 - val_loss: 0.3826 - val_acc: 0.9117\n",
            "Epoch 17/20\n",
            "7534/7534 [==============================] - 5s 626us/sample - loss: 0.0577 - acc: 0.9790 - val_loss: 0.3698 - val_acc: 0.9141\n",
            "Epoch 18/20\n",
            "7534/7534 [==============================] - 5s 613us/sample - loss: 0.0612 - acc: 0.9774 - val_loss: 0.3433 - val_acc: 0.9181\n",
            "Epoch 19/20\n",
            "7534/7534 [==============================] - 5s 632us/sample - loss: 0.0600 - acc: 0.9781 - val_loss: 0.4542 - val_acc: 0.8880\n",
            "Epoch 20/20\n",
            "7534/7534 [==============================] - 5s 613us/sample - loss: 0.0599 - acc: 0.9781 - val_loss: 0.4136 - val_acc: 0.8968\n"
          ],
          "name": "stdout"
        }
      ]
    },
    {
      "cell_type": "code",
      "metadata": {
        "id": "4kTqqoKmD29L",
        "colab_type": "code",
        "colab": {
          "base_uri": "https://localhost:8080/",
          "height": 547
        },
        "outputId": "977213ad-9582-42a1-be50-4e195cf2ddeb"
      },
      "source": [
        "plt.plot(history.history['acc'])\n",
        "plt.plot(history.history['val_acc'])\n",
        "plt.show()\n",
        "\n",
        "plt.plot(history.history['loss'])\n",
        "plt.plot(history.history['val_loss'])\n",
        "plt.show()\n",
        "\n",
        "print('Maximum acc on training:', np.max(history.history['acc']),'at epoch:', np.argmax(history.history['acc']))\n",
        "print('Maximum acc on validation:', np.max(history.history['val_acc']),'at epoch:', np.argmax(history.history['val_acc']))"
      ],
      "execution_count": 218,
      "outputs": [
        {
          "output_type": "display_data",
          "data": {
            "image/png": "[encoded data removed]",
            "text/plain": [
              "<Figure size 432x288 with 1 Axes>"
            ]
          },
          "metadata": {
            "tags": []
          }
        },
        {
          "output_type": "display_data",
          "data": {
            "image/png": "[encoded data removed]",
            "text/plain": [
              "<Figure size 432x288 with 1 Axes>"
            ]
          },
          "metadata": {
            "tags": []
          }
        },
        {
          "output_type": "stream",
          "text": [
            "Maximum acc on training: 0.98181576 at epoch: 2\n",
            "Maximum acc on validation: 0.91982275 at epoch: 7\n"
          ],
          "name": "stdout"
        }
      ]
    },
    {
      "cell_type": "code",
      "metadata": {
        "id": "5CmjPEpTBUYg",
        "colab_type": "code",
        "colab": {}
      },
      "source": [
        ""
      ],
      "execution_count": 0,
      "outputs": []
    }
  ]
}