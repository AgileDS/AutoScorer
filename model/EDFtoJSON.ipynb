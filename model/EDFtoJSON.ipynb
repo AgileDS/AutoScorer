{
 "cells": [
  {
   "cell_type": "code",
   "execution_count": 2,
   "metadata": {},
   "outputs": [],
   "source": [
    "import numpy as np\n",
    "import pandas as pd\n",
    "import mne\n",
    "import csv, json"
   ]
  },
  {
   "cell_type": "code",
   "execution_count": 17,
   "metadata": {},
   "outputs": [],
   "source": [
    "file_name = 'Veh70_02202015'"
   ]
  },
  {
   "cell_type": "code",
   "execution_count": 18,
   "metadata": {},
   "outputs": [
    {
     "name": "stdout",
     "output_type": "stream",
     "text": [
      "Extracting EDF parameters from /home/maikito/Documents/master ciencia de datos/ADS/Project/Veh70_02202015.edf...\n",
      "EDF file detected\n",
      "Setting channel info structure...\n",
      "Creating raw.info structure...\n"
     ]
    }
   ],
   "source": [
    "edf = mne.io.read_raw_edf(file_name+'.edf')\n",
    "\n",
    "header = ','.join(edf.ch_names)\n",
    "np.savetxt(file_name + '.csv', edf.get_data().T, delimiter=',', header=header)"
   ]
  },
  {
   "cell_type": "code",
   "execution_count": 19,
   "metadata": {},
   "outputs": [],
   "source": [
    "data = pd.read_csv(file_name + '.csv')\n",
    "data.head()\n",
    "data.to_json(file_name + '.json')   "
   ]
  },
  {
   "cell_type": "code",
   "execution_count": 20,
   "metadata": {},
   "outputs": [
    {
     "data": {
      "text/plain": [
       "['__class__',\n",
       " '__contains__',\n",
       " '__del__',\n",
       " '__delattr__',\n",
       " '__dict__',\n",
       " '__dir__',\n",
       " '__doc__',\n",
       " '__enter__',\n",
       " '__eq__',\n",
       " '__exit__',\n",
       " '__format__',\n",
       " '__ge__',\n",
       " '__getattribute__',\n",
       " '__getitem__',\n",
       " '__gt__',\n",
       " '__hash__',\n",
       " '__init__',\n",
       " '__init_subclass__',\n",
       " '__le__',\n",
       " '__len__',\n",
       " '__lt__',\n",
       " '__module__',\n",
       " '__ne__',\n",
       " '__new__',\n",
       " '__reduce__',\n",
       " '__reduce_ex__',\n",
       " '__repr__',\n",
       " '__setattr__',\n",
       " '__setitem__',\n",
       " '__sizeof__',\n",
       " '__str__',\n",
       " '__subclasshook__',\n",
       " '__weakref__',\n",
       " '_annotations',\n",
       " '_cals',\n",
       " '_check_bad_segment',\n",
       " '_comp',\n",
       " '_dtype',\n",
       " '_dtype_',\n",
       " '_filenames',\n",
       " '_first_samps',\n",
       " '_first_time',\n",
       " '_get_buffer_size',\n",
       " '_get_channel_positions',\n",
       " '_init_kwargs',\n",
       " '_last_samps',\n",
       " '_last_time',\n",
       " '_orig_units',\n",
       " '_parse_get_set_params',\n",
       " '_pick_drop_channels',\n",
       " '_preload_data',\n",
       " '_projector',\n",
       " '_projectors',\n",
       " '_raw_extras',\n",
       " '_raw_lengths',\n",
       " '_read_comp_grade',\n",
       " '_read_segment',\n",
       " '_read_segment_file',\n",
       " '_set_channel_positions',\n",
       " '_size',\n",
       " '_times',\n",
       " '_update_times',\n",
       " 'add_channels',\n",
       " 'add_events',\n",
       " 'add_proj',\n",
       " 'annotations',\n",
       " 'anonymize',\n",
       " 'append',\n",
       " 'apply_function',\n",
       " 'apply_gradient_compensation',\n",
       " 'apply_hilbert',\n",
       " 'apply_proj',\n",
       " 'buffer_size_sec',\n",
       " 'ch_names',\n",
       " 'close',\n",
       " 'compensation_grade',\n",
       " 'copy',\n",
       " 'crop',\n",
       " 'del_proj',\n",
       " 'drop_channels',\n",
       " 'estimate_rank',\n",
       " 'filenames',\n",
       " 'filter',\n",
       " 'first_samp',\n",
       " 'get_data',\n",
       " 'info',\n",
       " 'interpolate_bads',\n",
       " 'last_samp',\n",
       " 'load_bad_channels',\n",
       " 'load_data',\n",
       " 'n_times',\n",
       " 'notch_filter',\n",
       " 'orig_format',\n",
       " 'pick',\n",
       " 'pick_channels',\n",
       " 'pick_types',\n",
       " 'plot',\n",
       " 'plot_projs_topomap',\n",
       " 'plot_psd',\n",
       " 'plot_psd_topo',\n",
       " 'plot_sensors',\n",
       " 'preload',\n",
       " 'proj',\n",
       " 'rename_channels',\n",
       " 'reorder_channels',\n",
       " 'resample',\n",
       " 'save',\n",
       " 'savgol_filter',\n",
       " 'set_annotations',\n",
       " 'set_channel_types',\n",
       " 'set_eeg_reference',\n",
       " 'set_montage',\n",
       " 'time_as_index',\n",
       " 'times',\n",
       " 'to_data_frame',\n",
       " 'verbose']"
      ]
     },
     "execution_count": 20,
     "metadata": {},
     "output_type": "execute_result"
    }
   ],
   "source": []
  }
 ],
 "metadata": {
  "kernelspec": {
   "display_name": "Python 3",
   "language": "python",
   "name": "python3"
  },
  "language_info": {
   "codemirror_mode": {
    "name": "ipython",
    "version": 3
   },
   "file_extension": ".py",
   "mimetype": "text/x-python",
   "name": "python",
   "nbconvert_exporter": "python",
   "pygments_lexer": "ipython3",
   "version": "3.7.3"
  }
 },
 "nbformat": 4,
 "nbformat_minor": 4
}
