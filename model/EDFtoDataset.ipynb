{
 "cells": [
  {
   "cell_type": "code",
   "execution_count": 112,
   "metadata": {},
   "outputs": [],
   "source": [
    "import numpy as np\n",
    "import pandas as pd\n",
    "import mne\n",
    "import csv, json\n",
    "import datetime"
   ]
  },
  {
   "cell_type": "code",
   "execution_count": 113,
   "metadata": {},
   "outputs": [],
   "source": [
    "sample_folder = './samples/'\n",
    "file_name = 'Veh70_02202015'"
   ]
  },
  {
   "cell_type": "code",
   "execution_count": 114,
   "metadata": {},
   "outputs": [],
   "source": [
    "def edf_to_pandas(edf_path, scores_path):\n",
    "    edf = mne.io.read_raw_edf(edf_path)\n",
    "    sampling_rate = int(edf.info['sfreq'])\n",
    "    name = datetime.datetime.utcfromtimestamp(edf.info['meas_date'][0]).strftime('%Y-%m-%d %H:%M:%S')\n",
    "    \n",
    "    header = (','.join(edf.ch_names)).split(',')\n",
    "    df = edf.get_data().T\n",
    "    df = pd.DataFrame(data=df, columns=header)\n",
    "    \n",
    "    scores = pd.read_excel(scores_path, keep_default_na=False)\n",
    "    repeat_score = int(df.shape[0]/scores.shape[0])\n",
    "    scores = np.repeat(scores.values, repeat_score)\n",
    "    \n",
    "    scored_rows = min(df.shape[0], scores.shape[0])\n",
    "    df = df[:scored_rows]\n",
    "    \n",
    "    df['Score'] = scores\n",
    "    df.index.name = name\n",
    "    \n",
    "    return df"
   ]
  },
  {
   "cell_type": "code",
   "execution_count": 115,
   "metadata": {},
   "outputs": [
    {
     "name": "stdout",
     "output_type": "stream",
     "text": [
      "Extracting EDF parameters from C:\\Users\\Kr0no\\Documents\\UB\\AutoScorer-ADS\\model\\samples\\Veh70_02202015.edf...\n",
      "EDF file detected\n",
      "Setting channel info structure...\n",
      "Creating raw.info structure...\n"
     ]
    },
    {
     "data": {
      "text/html": [
       "<div>\n",
       "<style scoped>\n",
       "    .dataframe tbody tr th:only-of-type {\n",
       "        vertical-align: middle;\n",
       "    }\n",
       "\n",
       "    .dataframe tbody tr th {\n",
       "        vertical-align: top;\n",
       "    }\n",
       "\n",
       "    .dataframe thead th {\n",
       "        text-align: right;\n",
       "    }\n",
       "</style>\n",
       "<table border=\"1\" class=\"dataframe\">\n",
       "  <thead>\n",
       "    <tr style=\"text-align: right;\">\n",
       "      <th></th>\n",
       "      <th>EEG</th>\n",
       "      <th>EMG</th>\n",
       "      <th>Score</th>\n",
       "    </tr>\n",
       "    <tr>\n",
       "      <th>2015-02-21 22:00:00</th>\n",
       "      <th></th>\n",
       "      <th></th>\n",
       "      <th></th>\n",
       "    </tr>\n",
       "  </thead>\n",
       "  <tbody>\n",
       "    <tr>\n",
       "      <th>0</th>\n",
       "      <td>-340.152835</td>\n",
       "      <td>655.843557</td>\n",
       "      <td>NA</td>\n",
       "    </tr>\n",
       "    <tr>\n",
       "      <th>1</th>\n",
       "      <td>-367.185416</td>\n",
       "      <td>843.345617</td>\n",
       "      <td>NA</td>\n",
       "    </tr>\n",
       "    <tr>\n",
       "      <th>2</th>\n",
       "      <td>-375.212013</td>\n",
       "      <td>834.127890</td>\n",
       "      <td>NA</td>\n",
       "    </tr>\n",
       "    <tr>\n",
       "      <th>3</th>\n",
       "      <td>-361.986843</td>\n",
       "      <td>977.789540</td>\n",
       "      <td>NA</td>\n",
       "    </tr>\n",
       "    <tr>\n",
       "      <th>4</th>\n",
       "      <td>-349.343913</td>\n",
       "      <td>521.624456</td>\n",
       "      <td>NA</td>\n",
       "    </tr>\n",
       "  </tbody>\n",
       "</table>\n",
       "</div>"
      ],
      "text/plain": [
       "                            EEG         EMG Score\n",
       "2015-02-21 22:00:00                              \n",
       "0                   -340.152835  655.843557    NA\n",
       "1                   -367.185416  843.345617    NA\n",
       "2                   -375.212013  834.127890    NA\n",
       "3                   -361.986843  977.789540    NA\n",
       "4                   -349.343913  521.624456    NA"
      ]
     },
     "execution_count": 115,
     "metadata": {},
     "output_type": "execute_result"
    }
   ],
   "source": [
    "df = edf_to_pandas(sample_folder+file_name+'.edf', sample_folder+file_name+'.xls')\n",
    "df.head()"
   ]
  },
  {
   "cell_type": "code",
   "execution_count": 116,
   "metadata": {},
   "outputs": [],
   "source": [
    "def resampling_pandas(df, output_sampling_rate):\n",
    "    pass #TODO"
   ]
  },
  {
   "cell_type": "code",
   "execution_count": null,
   "metadata": {},
   "outputs": [],
   "source": []
  },
  {
   "cell_type": "code",
   "execution_count": null,
   "metadata": {},
   "outputs": [],
   "source": []
  },
  {
   "cell_type": "code",
   "execution_count": null,
   "metadata": {},
   "outputs": [],
   "source": []
  },
  {
   "cell_type": "code",
   "execution_count": null,
   "metadata": {},
   "outputs": [],
   "source": []
  }
 ],
 "metadata": {
  "kernelspec": {
   "display_name": "Python 3",
   "language": "python",
   "name": "python3"
  },
  "language_info": {
   "codemirror_mode": {
    "name": "ipython",
    "version": 3
   },
   "file_extension": ".py",
   "mimetype": "text/x-python",
   "name": "python",
   "nbconvert_exporter": "python",
   "pygments_lexer": "ipython3",
   "version": "3.7.3"
  }
 },
 "nbformat": 4,
 "nbformat_minor": 4
}
