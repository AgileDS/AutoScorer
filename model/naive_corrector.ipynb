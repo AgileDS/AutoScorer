{
 "cells": [
  {
   "cell_type": "code",
   "execution_count": 6,
   "metadata": {},
   "outputs": [],
   "source": [
    "import numpy as np\n",
    "import pandas as pd"
   ]
  },
  {
   "cell_type": "code",
   "execution_count": 7,
   "metadata": {},
   "outputs": [],
   "source": [
    "df = pd.read_csv('predictions-Veh70_02202015.xls')"
   ]
  },
  {
   "cell_type": "code",
   "execution_count": 96,
   "metadata": {},
   "outputs": [],
   "source": [
    "scores = np.array(df['Score'])\n",
    " \n",
    "class naive_corrector:\n",
    "  def __init__(self, raw_scores):\n",
    "    self.raw_scores = raw_scores\n",
    "    self.length = len(raw_scores)\n",
    "    self.corrected_scores = raw_scores\n",
    "\n",
    "  def rnr_to_wnr(self):\n",
    "    count = 0\n",
    "    for ind, s in enumerate(self.corrected_scores):\n",
    "        if s == 'R' and self.corrected_scores[ind+1] == 'NR':\n",
    "            self.corrected_scores[ind] = 'W'\n",
    "            count += 1\n",
    "    print('R, NR --> W, NR; {} labels changed from R to W'.format(count))\n",
    "    \n",
    "  def wr_to_ww(self):\n",
    "    count = 0\n",
    "    for ind, s in enumerate(self.corrected_scores):\n",
    "        if s == 'W' and self.corrected_scores[ind+1] == 'R':\n",
    "            self.corrected_scores[ind+1] = 'W'\n",
    "            count += 1\n",
    "    print('W, R --> W, W; {} labels changed from R to W'.format(count))\n",
    "    \n",
    "  def brief_nr_to_w(self):\n",
    "    count = 0\n",
    "    for ind, s in enumerate(self.corrected_scores):\n",
    "        if s == 'W' and self.corrected_scores[ind+1] == 'NR' and self.corrected_scores[ind+2] == 'W':\n",
    "            self.corrected_scores[ind+1] = 'W'\n",
    "            count += 1\n",
    "    print('W, NR, W --> W, W, W; {} labels changed from NR to W'.format(count))\n",
    "    \n",
    "    "
   ]
  },
  {
   "cell_type": "code",
   "execution_count": 97,
   "metadata": {},
   "outputs": [
    {
     "name": "stdout",
     "output_type": "stream",
     "text": [
      "R, NR --> W, NR; 41 labels changed from R to W\n",
      "W, R --> W, W; 9 labels changed from R to W\n",
      "W, NR, W --> W, W, W; 22 labels changed from NR to W\n"
     ]
    }
   ],
   "source": [
    "a = naive_corrector(scores)\n",
    "a.rnr_to_wnr()\n",
    "a.wr_to_ww()\n",
    "a.brief_nr_to_w()"
   ]
  }
 ],
 "metadata": {
  "kernelspec": {
   "display_name": "Python 3",
   "language": "python",
   "name": "python3"
  },
  "language_info": {
   "codemirror_mode": {
    "name": "ipython",
    "version": 3
   },
   "file_extension": ".py",
   "mimetype": "text/x-python",
   "name": "python",
   "nbconvert_exporter": "python",
   "pygments_lexer": "ipython3",
   "version": "3.7.3"
  }
 },
 "nbformat": 4,
 "nbformat_minor": 4
}
