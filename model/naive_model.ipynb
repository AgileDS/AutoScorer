{
 "cells": [
  {
   "cell_type": "code",
   "execution_count": 17,
   "metadata": {},
   "outputs": [],
   "source": [
    "import numpy as np\n",
    "import pandas as pd\n",
    "import mne\n",
    "import csv, json\n",
    "import datetime"
   ]
  },
  {
   "cell_type": "code",
   "execution_count": 9,
   "metadata": {},
   "outputs": [],
   "source": [
    "sample_folder = './samples/'\n",
    "file_name = 'Veh70_02202015'"
   ]
  },
  {
   "cell_type": "code",
   "execution_count": 6,
   "metadata": {},
   "outputs": [],
   "source": [
    "def edf_to_pandas(edf_path, scores_path):\n",
    "    edf = mne.io.read_raw_edf(edf_path)\n",
    "    sampling_rate = int(edf.info['sfreq'])\n",
    "    name = datetime.datetime.utcfromtimestamp(edf.info['meas_date'][0]).strftime('%Y-%m-%d %H:%M:%S')\n",
    "    \n",
    "    header = (','.join(edf.ch_names)).split(',')\n",
    "    df = edf.get_data().T\n",
    "    df = pd.DataFrame(data=df, columns=header)\n",
    "    \n",
    "    scores = pd.read_excel(scores_path, keep_default_na=False)\n",
    "    repeat_score = int(df.shape[0]/scores.shape[0])\n",
    "    scores = np.repeat(scores.values, repeat_score)\n",
    "    \n",
    "    scored_rows = min(df.shape[0], scores.shape[0])\n",
    "    df = df[:scored_rows]\n",
    "    \n",
    "    df['Score'] = scores\n",
    "    df.index.name = name\n",
    "    \n",
    "    return df"
   ]
  },
  {
   "cell_type": "code",
   "execution_count": 18,
   "metadata": {},
   "outputs": [
    {
     "name": "stdout",
     "output_type": "stream",
     "text": [
      "Extracting EDF parameters from C:\\Users\\Usuario\\AutoScorer\\model\\samples\\Veh70_02202015.edf...\n",
      "EDF file detected\n",
      "Setting channel info structure...\n",
      "Creating raw.info structure...\n"
     ]
    }
   ],
   "source": [
    "df = edf_to_pandas(sample_folder+file_name+'.edf', sample_folder+file_name+'.xls')"
   ]
  },
  {
   "cell_type": "code",
   "execution_count": 19,
   "metadata": {},
   "outputs": [],
   "source": [
    "from sklearn.preprocessing import scale\n",
    "from sklearn.model_selection import train_test_split\n",
    "X = df[[\"EEG\",\"EMG\"]]\n",
    "X = scale(X) \n",
    "Y=df[\"Score\"]\n",
    "X_train, X_test, Y_train, Y_test = train_test_split(\n",
    "        X, Y, train_size=0.75, test_size=0.25, random_state=0)"
   ]
  },
  {
   "cell_type": "code",
   "execution_count": 20,
   "metadata": {},
   "outputs": [
    {
     "name": "stdout",
     "output_type": "stream",
     "text": [
      "Accuracy of GNB classifier on training set: 0.45\n",
      "Accuracy of GNB classifier on test set: 0.45\n"
     ]
    }
   ],
   "source": [
    "from sklearn.naive_bayes import GaussianNB\n",
    "gnb = GaussianNB()\n",
    "gnb.fit(X_train, Y_train)\n",
    "print('Accuracy of GNB classifier on training set: {:.2f}'\n",
    "     .format(gnb.score(X_train, Y_train)))\n",
    "print('Accuracy of GNB classifier on test set: {:.2f}'\n",
    "     .format(gnb.score(X_test, Y_test)))"
   ]
  },
  {
   "cell_type": "code",
   "execution_count": 25,
   "metadata": {},
   "outputs": [],
   "source": [
    "YPred = gnb.predict(X)\n",
    "Predicted_Data=X\n",
    "Predicted_Data[\"Predicted_Score\"]=YPred"
   ]
  },
  {
   "cell_type": "code",
   "execution_count": 46,
   "metadata": {},
   "outputs": [],
   "source": [
    "df.to_csv(\"./naive_model_output/Predicted_Data.csv\")"
   ]
  }
 ],
 "metadata": {
  "kernelspec": {
   "display_name": "Python 3",
   "language": "python",
   "name": "python3"
  },
  "language_info": {
   "codemirror_mode": {
    "name": "ipython",
    "version": 3
   },
   "file_extension": ".py",
   "mimetype": "text/x-python",
   "name": "python",
   "nbconvert_exporter": "python",
   "pygments_lexer": "ipython3",
   "version": "3.7.3"
  }
 },
 "nbformat": 4,
 "nbformat_minor": 2
}
