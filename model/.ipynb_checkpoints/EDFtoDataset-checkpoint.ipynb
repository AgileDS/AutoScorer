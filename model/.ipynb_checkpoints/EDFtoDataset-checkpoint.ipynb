{
 "cells": [
  {
   "cell_type": "code",
   "execution_count": 1,
   "metadata": {},
   "outputs": [],
   "source": [
    "import numpy as np\n",
    "import pandas as pd\n",
    "import mne\n",
    "import csv, json\n",
    "import datetime"
   ]
  },
  {
   "cell_type": "code",
   "execution_count": 2,
   "metadata": {},
   "outputs": [],
   "source": [
    "sample_folder = './samples/'\n",
    "file_name = 'Veh70_02202015'"
   ]
  },
  {
   "cell_type": "code",
   "execution_count": 3,
   "metadata": {},
   "outputs": [],
   "source": [
    "def edf_to_dataset(edf_path, scores_path):\n",
    "    edf = mne.io.read_raw_edf(edf_path)\n",
    "    sampling_rate = int(edf.info['sfreq'])\n",
    "    name = datetime.datetime.utcfromtimestamp(edf.info['meas_date'][0]).strftime('%Y-%m-%d %H:%M:%S')\n",
    "    \n",
    "    header = (','.join(edf.ch_names)).split(',')\n",
    "    df = edf.get_data().T\n",
    "    \n",
    "    scores = np.squeeze( pd.read_excel(scores_path, keep_default_na=False).values )\n",
    "    values_per_window = int(df.shape[0]/scores.shape[0])\n",
    "    num_windows = scores.shape[0]\n",
    "    \n",
    "    df = df[:num_windows*values_per_window]\n",
    "    df = np.reshape(df, newshape=(num_windows, values_per_window, 2))\n",
    "\n",
    "    scores[scores=='D'] = 'WA'\n",
    "    \n",
    "    return df, scores"
   ]
  },
  {
   "cell_type": "code",
   "execution_count": 28,
   "metadata": {},
   "outputs": [],
   "source": [
    "def labels_to_onehot(Y, categories = {}):\n",
    "    Y = Y.copy()\n",
    "    count = 0\n",
    "    for i in range(len(Y)):\n",
    "        value = Y[i]\n",
    "        if not value in categories:\n",
    "            categories[value] = count\n",
    "            count += 1\n",
    "        Y[i] = categories[value]\n",
    "\n",
    "    Y = Y.astype(int)\n",
    "    Y_onehot = np.zeros((Y.shape[0], len(categories)))\n",
    "#     print(Y_onehot.shape)\n",
    "#     print(categories)\n",
    "    Y_onehot[np.arange(Y.shape[0]), Y] = 1\n",
    "\n",
    "    return Y_onehot, categories"
   ]
  },
  {
   "cell_type": "code",
   "execution_count": 29,
   "metadata": {},
   "outputs": [
    {
     "name": "stdout",
     "output_type": "stream",
     "text": [
      "Extracting EDF parameters from C:\\Users\\Albert\\Documents\\AutoScorer\\model\\samples\\Veh70_02202015.edf...\n",
      "EDF file detected\n",
      "Setting channel info structure...\n",
      "Creating raw.info structure...\n",
      "(2160, 5000, 2) (2160,)\n"
     ]
    }
   ],
   "source": [
    "X, Y = edf_to_dataset(sample_folder+file_name+'.edf', sample_folder+file_name+'.xls')\n",
    "print(X.shape, Y.shape)"
   ]
  },
  {
   "cell_type": "code",
   "execution_count": 35,
   "metadata": {},
   "outputs": [
    {
     "name": "stdout",
     "output_type": "stream",
     "text": [
      "(2160, 6)\n",
      "{'NA': 0, 'WA': 1, 'W': 2, 'NR': 3, 'RA': 4, 'R': 5}\n"
     ]
    }
   ],
   "source": [
    "Y_onehot, categories = labels_to_onehot(Y)\n",
    "print(Y_onehot.shape)\n",
    "print(categories)"
   ]
  },
  {
   "cell_type": "code",
   "execution_count": null,
   "metadata": {},
   "outputs": [],
   "source": []
  }
 ],
 "metadata": {
  "kernelspec": {
   "display_name": "Python 3",
   "language": "python",
   "name": "python3"
  },
  "language_info": {
   "codemirror_mode": {
    "name": "ipython",
    "version": 3
   },
   "file_extension": ".py",
   "mimetype": "text/x-python",
   "name": "python",
   "nbconvert_exporter": "python",
   "pygments_lexer": "ipython3",
   "version": "3.7.3"
  }
 },
 "nbformat": 4,
 "nbformat_minor": 4
}
